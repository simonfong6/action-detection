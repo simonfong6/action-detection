{
 "cells": [
  {
   "cell_type": "code",
   "execution_count": 1,
   "metadata": {},
   "outputs": [],
   "source": [
    "import os\n",
    "SIGN_LOCATION = '../../signDatabase'\n",
    "data_base = 'aiua120214-0/frameAnnotations-DataLog02142012_external_camera.avi_annotations'\n",
    "# data_base = 'aiua120214-1/frameAnnotations-DataLog02142012_001_external_camera.avi_annotations'\n",
    "data_dir = os.path.join(SIGN_LOCATION, data_base)\n",
    "annotations_file = 'frameAnnotations.csv'\n",
    "get_origin_path = lambda filename: os.path.join(data_dir, filename)\n",
    "annotations_path = os.path.join(data_dir, annotations_file)"
   ]
  },
  {
   "cell_type": "code",
   "execution_count": 2,
   "metadata": {},
   "outputs": [],
   "source": [
    "FILENAME = 'Filename'\n",
    "CLASS = 'Annotation tag'\n",
    "UL_X = 'Upper left corner X'\n",
    "UL_Y = 'Upper left corner Y'\n",
    "LR_X = 'Lower right corner X'\n",
    "LR_Y = 'Lower right corner Y'"
   ]
  },
  {
   "cell_type": "code",
   "execution_count": 3,
   "metadata": {},
   "outputs": [
    {
     "name": "stdout",
     "output_type": "stream",
     "text": [
      "522 1024\n"
     ]
    }
   ],
   "source": [
    "import csv\n",
    "\n",
    "with open(annotations_path, newline='') as csvfile:\n",
    "    annotations = csv.DictReader(csvfile, delimiter=';')\n",
    "    \n",
    "    for row in annotations:\n",
    "        image_name = row[FILENAME]\n",
    "        break\n",
    "    \n",
    "import cv2\n",
    "image_path = os.path.join(data_dir, image_name)\n",
    "image = cv2.imread(image_path)\n",
    "height, width, _ = image.shape\n",
    "print(height, width)"
   ]
  },
  {
   "cell_type": "code",
   "execution_count": 4,
   "metadata": {},
   "outputs": [],
   "source": [
    "classes = set()\n",
    "with open(annotations_path, newline='') as csvfile:\n",
    "    annotations = csv.DictReader(csvfile, delimiter=';')\n",
    "    \n",
    "    for row in annotations:\n",
    "        classes.add(row[CLASS])\n",
    "classes = list(classes)"
   ]
  },
  {
   "cell_type": "code",
   "execution_count": 5,
   "metadata": {},
   "outputs": [
    {
     "data": {
      "text/plain": [
       "['turnLeft',\n",
       " 'keepRight',\n",
       " 'pedestrianCrossing',\n",
       " 'speedLimit15',\n",
       " 'school',\n",
       " 'speedLimit25',\n",
       " 'speedLimit35',\n",
       " 'speedLimitUrdbl',\n",
       " 'rightLaneMustTurn',\n",
       " 'stop',\n",
       " 'laneEnds',\n",
       " 'signalAhead',\n",
       " 'slow',\n",
       " 'speedLimit45']"
      ]
     },
     "execution_count": 5,
     "metadata": {},
     "output_type": "execute_result"
    }
   ],
   "source": [
    "classes"
   ]
  },
  {
   "cell_type": "code",
   "execution_count": 6,
   "metadata": {},
   "outputs": [],
   "source": [
    "classes = ['stop']"
   ]
  },
  {
   "cell_type": "code",
   "execution_count": 7,
   "metadata": {},
   "outputs": [],
   "source": [
    "def generate_label(tag, x_min, y_min, x_max, y_max, classes, width, height):\n",
    "    \"\"\"label_idx, x_center, y_center, width, height\n",
    "        scaled by [0, 1]\n",
    "    \"\"\"\n",
    "    label_idx = classes.index(tag)\n",
    "    \n",
    "    # Centers.\n",
    "    x_center = (x_min + x_max) / 2\n",
    "    y_center = (y_min + y_max) / 2\n",
    "    \n",
    "    # Bounding Box: Width, Height.\n",
    "    bbox_width = x_max - x_min\n",
    "    bbox_height = y_max - y_min\n",
    "    \n",
    "    # Scale.\n",
    "    x_center_scaled = x_center / width\n",
    "    y_center_scaled = y_center / height\n",
    "    \n",
    "    bbox_width_scaled = bbox_width / width\n",
    "    bbox_height_scaled = bbox_height / height\n",
    "    \n",
    "    label = [\n",
    "        label_idx,\n",
    "        x_center_scaled,\n",
    "        y_center_scaled,\n",
    "        bbox_width_scaled,\n",
    "        bbox_height_scaled\n",
    "    ]\n",
    "    \n",
    "    label = map(str, label)\n",
    "    \n",
    "    # Format space seperated.\n",
    "    label_string = ' '.join(label)\n",
    "    \n",
    "    return label_string\n",
    "    "
   ]
  },
  {
   "cell_type": "code",
   "execution_count": 10,
   "metadata": {},
   "outputs": [],
   "source": [
    "FLOAT_KEYS = [UL_X, UL_Y, LR_X, LR_Y]\n",
    "\n",
    "formatted_data_dir = f\"data/formatted-stop-{data_base}\"\n",
    "get_path = lambda filename: os.path.join(formatted_data_dir, filename)\n",
    "LABELS_DIR = 'labels'\n",
    "LABELS_DIR_PATH = os.path.join(formatted_data_dir, LABELS_DIR)\n",
    "\n",
    "IMAGES_DIR = 'images'\n",
    "IMAGES_DIR_PATH = os.path.join(formatted_data_dir, IMAGES_DIR)\n",
    "\n",
    "CLASSES_PATH = os.path.join(formatted_data_dir, 'classes.names')\n",
    "TRAIN_PATH = os.path.join(formatted_data_dir, 'train.txt')\n",
    "VALID_PATH = os.path.join(formatted_data_dir, 'valid.txt')\n",
    "\n",
    "import os\n",
    "import shutil\n",
    "os.makedirs(LABELS_DIR_PATH, exist_ok=True)\n",
    "os.makedirs(IMAGES_DIR_PATH, exist_ok=True)\n",
    "\n",
    "open(TRAIN_PATH, 'w').close()\n",
    "open(VALID_PATH, 'w').close()\n",
    "\n",
    "\n",
    "\n",
    "with open(CLASSES_PATH, 'w') as f:\n",
    "    for class_name in classes:\n",
    "        class_name += '\\n'\n",
    "        f.write(class_name)\n",
    "\n",
    "with open(annotations_path, newline='') as csvfile:\n",
    "    annotations = csv.DictReader(csvfile, delimiter=';')\n",
    "    \n",
    "    keep = set([\"stop\"])\n",
    "    seen = set()\n",
    "    for row in annotations:\n",
    "        # Only keep ones that we want.\n",
    "        if row[CLASS] not in keep:\n",
    "            continue\n",
    "        for key in FLOAT_KEYS:\n",
    "            row[key] = float(row[key])\n",
    "        filename = row[FILENAME]\n",
    "        base = os.path.splitext(filename)[0]\n",
    "        label_filename = f\"{base}.txt\"\n",
    "        \n",
    "        label_file_path = os.path.join(LABELS_DIR_PATH, label_filename)\n",
    "        label = generate_label(row[CLASS], row[UL_X], row[UL_Y], row[LR_X], row[LR_Y], classes, width, height)\n",
    "        \n",
    "        with open(label_file_path, 'w') as f:\n",
    "            label += '\\n'\n",
    "            f.write(label)\n",
    "        \n",
    "        image_path_src = get_origin_path(filename)\n",
    "        image_path_dst = os.path.join(IMAGES_DIR_PATH,filename)\n",
    "        \n",
    "        shutil.copy(image_path_src, image_path_dst)\n",
    "        \n",
    "        file_to_write = TRAIN_PATH\n",
    "        \n",
    "        if row[CLASS] not in seen:\n",
    "            seen.add(row[CLASS])\n",
    "            file_to_write = VALID_PATH\n",
    "        \n",
    "        with open(file_to_write, 'a') as f:\n",
    "            image_path_dst += '\\n'\n",
    "            f.write(image_path_dst)\n",
    "        \n",
    "        "
   ]
  },
  {
   "cell_type": "code",
   "execution_count": 9,
   "metadata": {},
   "outputs": [
    {
     "data": {
      "text/plain": [
       "Text(953.0, 144.0, '')"
      ]
     },
     "execution_count": 9,
     "metadata": {},
     "output_type": "execute_result"
    }
   ],
   "source": [
    "import cv2\n",
    "import matplotlib.patches as patches\n",
    "import numpy as np\n",
    "import matplotlib.pyplot as plt\n",
    "import random\n",
    "\n",
    "plt.figure()\n",
    "fig, ax = plt.subplots(1)\n",
    "ax.imshow(cv2.cvtColor(image, cv2.COLOR_BGR2RGB))\n",
    "\n",
    "\n",
    "# Bounding-box colors\n",
    "cmap = plt.get_cmap(\"tab20b\")\n",
    "colors = [cmap(i) for i in np.linspace(0, 1, 20)]\n",
    "bbox_colors = random.sample(colors, 10)\n",
    "color = bbox_colors[0]\n",
    "\n",
    "x1 = float(row[UL_X])\n",
    "y1 = float(row[UL_Y])\n",
    "\n",
    "box_w = float(row[LR_X]) - float(row[UL_X])\n",
    "box_h = float(row[LR_Y]) - float(row[UL_Y])\n",
    "\n",
    "# Create a Rectangle patch\n",
    "bbox = patches.Rectangle((x1, y1), box_w, box_h, linewidth=2, edgecolor=color, facecolor=\"none\")\n",
    "# Add the bbox to the plot\n",
    "ax.add_patch(bbox)\n",
    "\n",
    "plt.text(\n",
    "    x1,\n",
    "    y1,\n",
    "    s='',\n",
    "    color=\"white\",\n",
    "    verticalalignment=\"top\",\n",
    "    bbox={\"color\": color, \"pad\": 0},\n",
    ")"
   ]
  },
  {
   "cell_type": "code",
   "execution_count": null,
   "metadata": {},
   "outputs": [],
   "source": []
  }
 ],
 "metadata": {
  "kernelspec": {
   "display_name": "Python 3",
   "language": "python",
   "name": "python3"
  },
  "language_info": {
   "codemirror_mode": {
    "name": "ipython",
    "version": 3
   },
   "file_extension": ".py",
   "mimetype": "text/x-python",
   "name": "python",
   "nbconvert_exporter": "python",
   "pygments_lexer": "ipython3",
   "version": "3.7.3"
  }
 },
 "nbformat": 4,
 "nbformat_minor": 4
}
